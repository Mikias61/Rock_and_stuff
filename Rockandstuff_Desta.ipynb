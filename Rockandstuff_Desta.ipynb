{
 "cells": [
  {
   "cell_type": "code",
   "execution_count": 1,
   "id": "1370153a",
   "metadata": {},
   "outputs": [
    {
     "name": "stdout",
     "output_type": "stream",
     "text": [
      "Enter a choice (rock, paper, scissors): rock\n",
      "\n",
      "You chose rock, house chose rock.\n",
      "\n",
      "Both players selected rock. Try again!\n",
      "Play again? (y/n): n\n",
      "Game Over!\n"
     ]
    }
   ],
   "source": [
    "import random\n",
    "\n",
    "while True:\n",
    "    player_1 = input(\"Enter a choice (rock, paper, scissors): \")\n",
    "    actions = [\"rock\", \"paper\", \"scissors\"]\n",
    "    computer = random.choice(actions)\n",
    "    print(f\"\\nYou chose {player_1}, house chose {computer}.\\n\")\n",
    "\n",
    "    if player_1 == computer:\n",
    "        print(f\"Both players selected {player_1}. Try again!\")\n",
    "    elif player_1 == \"rock\":\n",
    "        if computer == \"scissors\":\n",
    "            print(\"You win!\")\n",
    "        else:\n",
    "            print(\"You lose.\")\n",
    "    elif player_1 == \"paper\":\n",
    "        if computer == \"rock\":\n",
    "            print(\"You win!\")\n",
    "        else:\n",
    "            print(\"You lose.\")\n",
    "    elif player_1 == \"scissors\":\n",
    "        if computer == \"paper\":\n",
    "            print(\"You win!\")\n",
    "        else:\n",
    "            print(\"You lose.\")\n",
    "\n",
    "    play_again = input(\"Play again? (y/n): \")\n",
    "    if play_again.lower() != \"y\":\n",
    "        print (\"Game Over!\")\n",
    "        break"
   ]
  },
  {
   "cell_type": "code",
   "execution_count": null,
   "id": "29ebd56f",
   "metadata": {},
   "outputs": [],
   "source": []
  }
 ],
 "metadata": {
  "kernelspec": {
   "display_name": "Python 3 (ipykernel)",
   "language": "python",
   "name": "python3"
  },
  "language_info": {
   "codemirror_mode": {
    "name": "ipython",
    "version": 3
   },
   "file_extension": ".py",
   "mimetype": "text/x-python",
   "name": "python",
   "nbconvert_exporter": "python",
   "pygments_lexer": "ipython3",
   "version": "3.9.7"
  }
 },
 "nbformat": 4,
 "nbformat_minor": 5
}
